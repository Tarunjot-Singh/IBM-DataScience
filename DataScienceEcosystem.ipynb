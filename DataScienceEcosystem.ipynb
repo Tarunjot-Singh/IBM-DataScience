{
 "cells": [
  {
   "cell_type": "markdown",
   "id": "f28fdaad-ea5a-4696-a06b-11e9c090aa93",
   "metadata": {},
   "source": [
    "# Data Science Tools and Ecosystem #"
   ]
  },
  {
   "cell_type": "markdown",
   "id": "e830293d-39c6-425a-a159-a52ebb532314",
   "metadata": {},
   "source": [
    " In this notebook, Data Science Tools and Ecosystem are summarized."
   ]
  },
  {
   "cell_type": "markdown",
   "id": "a42aa94e-bf60-4d80-b4e8-50d426062bee",
   "metadata": {},
   "source": [
    "Some of the popular languages that Data Scientists use are:\n",
    "1. Python\n",
    "2. R\n",
    "3. Scala\n",
    "4. JavaScript"
   ]
  },
  {
   "cell_type": "markdown",
   "id": "4d91045f-082d-4a6f-91e6-7faddfd3388e",
   "metadata": {},
   "source": [
    "Some of the commonly used libraries used by Data Scientists include:\n",
    "1. NumPy\n",
    "2. Pandas\n",
    "3. Matplotlib\n",
    "4. Seaborn\n",
    "5. Ploty\n",
    "6. Scikit-Learn\n",
    "\n"
   ]
  },
  {
   "cell_type": "markdown",
   "id": "a247bca6-c655-4717-87ca-17562082ed16",
   "metadata": {},
   "source": [
    "| Data Science Tools |\n",
    "|:----------------|\n",
    "| Jupyter Notebook |\n",
    "| Google Colab |\n",
    "| Visual Studio |\n",
    "| Anaconda |"
   ]
  },
  {
   "cell_type": "markdown",
   "id": "0469c32c-31ea-48ae-8e12-85ea01149b2e",
   "metadata": {},
   "source": [
    "Below are a few examples of evaluating arithmetic expressions in Python"
   ]
  },
  {
   "cell_type": "code",
   "execution_count": 1,
   "id": "a7a19b80-e0bb-49ef-985e-7fadfdf40427",
   "metadata": {},
   "outputs": [
    {
     "data": {
      "text/plain": [
       "9"
      ]
     },
     "execution_count": 1,
     "metadata": {},
     "output_type": "execute_result"
    }
   ],
   "source": [
    "4 + 5"
   ]
  },
  {
   "cell_type": "code",
   "execution_count": 2,
   "id": "3f212c79-8f79-4b05-a750-9cec0b1d4946",
   "metadata": {},
   "outputs": [
    {
     "data": {
      "text/plain": [
       "4"
      ]
     },
     "execution_count": 2,
     "metadata": {},
     "output_type": "execute_result"
    }
   ],
   "source": [
    "2*2"
   ]
  },
  {
   "cell_type": "code",
   "execution_count": 3,
   "id": "ade5d469-e271-4ba0-bec5-4236cadb579e",
   "metadata": {},
   "outputs": [
    {
     "data": {
      "text/plain": [
       "2.0"
      ]
     },
     "execution_count": 3,
     "metadata": {},
     "output_type": "execute_result"
    }
   ],
   "source": [
    "4/2"
   ]
  },
  {
   "cell_type": "code",
   "execution_count": 4,
   "id": "17c43b63-f433-45da-b0a5-7b22d3151651",
   "metadata": {},
   "outputs": [
    {
     "data": {
      "text/plain": [
       "4"
      ]
     },
     "execution_count": 4,
     "metadata": {},
     "output_type": "execute_result"
    }
   ],
   "source": [
    "9-5"
   ]
  },
  {
   "cell_type": "markdown",
   "id": "d7fa2985-af9a-4079-a31f-ea17749a774c",
   "metadata": {},
   "source": [
    "This a simple arithmetic expression to mutiply then add integers"
   ]
  },
  {
   "cell_type": "code",
   "execution_count": 5,
   "id": "70c9be0c-190d-4547-92e3-9530557a01bc",
   "metadata": {},
   "outputs": [
    {
     "data": {
      "text/plain": [
       "17"
      ]
     },
     "execution_count": 5,
     "metadata": {},
     "output_type": "execute_result"
    }
   ],
   "source": [
    "(3*4)+5"
   ]
  },
  {
   "cell_type": "markdown",
   "id": "adf542e1-44ed-4c32-8ea9-e4c0d886dc6f",
   "metadata": {},
   "source": [
    "This will convert 200 minutes to hours by diving by 60"
   ]
  },
  {
   "cell_type": "code",
   "execution_count": 6,
   "id": "7aebf987-3f47-4727-a93a-dfdbcac190e3",
   "metadata": {},
   "outputs": [
    {
     "data": {
      "text/plain": [
       "3.3333333333333335"
      ]
     },
     "execution_count": 6,
     "metadata": {},
     "output_type": "execute_result"
    }
   ],
   "source": [
    "200/60"
   ]
  },
  {
   "cell_type": "markdown",
   "id": "92c2a289-38b3-42c3-973e-adb9cd0918f2",
   "metadata": {},
   "source": [
    "**Objectives:** This course has all the basic fundamentals to become Data science proessional\n",
    "- Python\n",
    "- Data Visualization\n",
    "- Tensorflow\n",
    "- Jupyter Notebook\n"
   ]
  },
  {
   "cell_type": "markdown",
   "id": "34211f5a-3be3-4635-8f1c-466b908ae5f1",
   "metadata": {},
   "source": [
    "## Author ##\n",
    "Tarunjot Singh"
   ]
  },
  {
   "cell_type": "code",
   "execution_count": null,
   "id": "4cb19ea2-995a-46ec-9fae-fbf4aad45fd6",
   "metadata": {},
   "outputs": [],
   "source": []
  }
 ],
 "metadata": {
  "kernelspec": {
   "display_name": "Python 3 (ipykernel)",
   "language": "python",
   "name": "python3"
  },
  "language_info": {
   "codemirror_mode": {
    "name": "ipython",
    "version": 3
   },
   "file_extension": ".py",
   "mimetype": "text/x-python",
   "name": "python",
   "nbconvert_exporter": "python",
   "pygments_lexer": "ipython3",
   "version": "3.12.3"
  }
 },
 "nbformat": 4,
 "nbformat_minor": 5
}
